{
 "cells": [
  {
   "cell_type": "code",
   "execution_count": 1,
   "metadata": {},
   "outputs": [],
   "source": [
    "import numpy as np"
   ]
  },
  {
   "cell_type": "code",
   "execution_count": 9,
   "metadata": {},
   "outputs": [
    {
     "data": {
      "text/plain": [
       "array([[1, 2, 3],\n",
       "       [2, 3, 4]])"
      ]
     },
     "execution_count": 9,
     "metadata": {},
     "output_type": "execute_result"
    }
   ],
   "source": [
    "array = np.array([[1,2,3],[2,3,4]])\n",
    "array\n",
    "#print(array)     #print出来才是不带逗号的数组"
   ]
  },
  {
   "cell_type": "code",
   "execution_count": 16,
   "metadata": {},
   "outputs": [
    {
     "name": "stdout",
     "output_type": "stream",
     "text": [
      "维度: 2\n",
      "行数和列数: (2, 3)\n",
      "元素个数: 6\n"
     ]
    }
   ],
   "source": [
    "print(\"维度:\",array.ndim)\n",
    "print(\"行数和列数:\",array.shape)\n",
    "print(\"元素个数:\",array.size)"
   ]
  },
  {
   "cell_type": "markdown",
   "metadata": {},
   "source": [
    "Numpy的创建"
   ]
  },
  {
   "cell_type": "code",
   "execution_count": 20,
   "metadata": {},
   "outputs": [
    {
     "name": "stdout",
     "output_type": "stream",
     "text": [
      "[11 22 33]\n"
     ]
    }
   ],
   "source": [
    "a = np.array([11,22,33])\n",
    "print(a)"
   ]
  },
  {
   "cell_type": "code",
   "execution_count": 21,
   "metadata": {},
   "outputs": [
    {
     "name": "stdout",
     "output_type": "stream",
     "text": [
      "int64\n"
     ]
    }
   ],
   "source": [
    "a = np.array([11,22,33],dtype = np.int)   #默认64位\n",
    "print(a.dtype)"
   ]
  },
  {
   "cell_type": "code",
   "execution_count": 22,
   "metadata": {},
   "outputs": [
    {
     "name": "stdout",
     "output_type": "stream",
     "text": [
      "int32\n"
     ]
    }
   ],
   "source": [
    "a = np.array([11,22,33],dtype = np.int32)\n",
    "print(a.dtype)"
   ]
  },
  {
   "cell_type": "code",
   "execution_count": 23,
   "metadata": {},
   "outputs": [
    {
     "name": "stdout",
     "output_type": "stream",
     "text": [
      "[11. 22. 33.]\n",
      "float64\n"
     ]
    }
   ],
   "source": [
    "a  = np.array([11,22,33],dtype = np.float)\n",
    "print(a)\n",
    "print(a.dtype)"
   ]
  },
  {
   "cell_type": "code",
   "execution_count": 24,
   "metadata": {},
   "outputs": [
    {
     "name": "stdout",
     "output_type": "stream",
     "text": [
      "[11. 22. 33.]\n",
      "float32\n"
     ]
    }
   ],
   "source": [
    "a = np.array([11,22,33],dtype = np.float32)\n",
    "print(a)\n",
    "print(a.dtype)"
   ]
  },
  {
   "cell_type": "code",
   "execution_count": 28,
   "metadata": {},
   "outputs": [
    {
     "name": "stdout",
     "output_type": "stream",
     "text": [
      "[[0. 0. 0. 0.]\n",
      " [0. 0. 0. 0.]\n",
      " [0. 0. 0. 0.]]\n"
     ]
    }
   ],
   "source": [
    "a = np.zeros((3,4))\n",
    "print(a)"
   ]
  },
  {
   "cell_type": "code",
   "execution_count": 29,
   "metadata": {},
   "outputs": [
    {
     "name": "stdout",
     "output_type": "stream",
     "text": [
      "[[0 0 0 0]\n",
      " [0 0 0 0]\n",
      " [0 0 0 0]]\n"
     ]
    }
   ],
   "source": [
    "a = np.zeros((3,4),dtype=np.int)\n",
    "print(a)"
   ]
  },
  {
   "cell_type": "code",
   "execution_count": 32,
   "metadata": {},
   "outputs": [
    {
     "name": "stdout",
     "output_type": "stream",
     "text": [
      "[[0. 0. 0. 0.]\n",
      " [0. 0. 0. 0.]\n",
      " [0. 0. 0. 0.]]\n"
     ]
    }
   ],
   "source": [
    "a = np.empty((3,4), dtype = np.float)\n",
    "print(a)"
   ]
  },
  {
   "cell_type": "code",
   "execution_count": 33,
   "metadata": {},
   "outputs": [
    {
     "name": "stdout",
     "output_type": "stream",
     "text": [
      "[[0 0 0 0]\n",
      " [0 0 0 0]\n",
      " [0 0 0 0]]\n"
     ]
    }
   ],
   "source": [
    "a = np.empty((3,4), dtype = np.int)\n",
    "print(a)"
   ]
  },
  {
   "cell_type": "code",
   "execution_count": 34,
   "metadata": {},
   "outputs": [
    {
     "name": "stdout",
     "output_type": "stream",
     "text": [
      "[0 1 2 3 4 5 6 7 8 9]\n"
     ]
    }
   ],
   "source": [
    "a = np.arange(0,10,1)    #1为步长\n",
    "print(a)"
   ]
  },
  {
   "cell_type": "code",
   "execution_count": 38,
   "metadata": {},
   "outputs": [
    {
     "name": "stdout",
     "output_type": "stream",
     "text": [
      "[[0 1 2 3 4]\n",
      " [5 6 7 8 9]]\n"
     ]
    }
   ],
   "source": [
    "a =np.arange(0,10,1).reshape((2,5))   #reshape里面要带括号\n",
    "print(a)"
   ]
  },
  {
   "cell_type": "code",
   "execution_count": 32,
   "metadata": {},
   "outputs": [
    {
     "name": "stdout",
     "output_type": "stream",
     "text": [
      "[ 1.    5.75 10.5  15.25 20.  ]\n"
     ]
    }
   ],
   "source": [
    "a = np.linspace(1,20,5)  #8表示分割成8个数据（等差数列）\n",
    "print(a)"
   ]
  },
  {
   "cell_type": "code",
   "execution_count": 40,
   "metadata": {},
   "outputs": [
    {
     "name": "stdout",
     "output_type": "stream",
     "text": [
      "[[ 1.          3.71428571]\n",
      " [ 6.42857143  9.14285714]\n",
      " [11.85714286 14.57142857]\n",
      " [17.28571429 20.        ]]\n"
     ]
    }
   ],
   "source": [
    "a = np.linspace(1,20,8).reshape((4,2))\n",
    "print(a)"
   ]
  },
  {
   "cell_type": "code",
   "execution_count": 34,
   "metadata": {},
   "outputs": [],
   "source": [
    "import numpy as np\n",
    "a=np.array([11,22,33,44,55,66])   \n",
    "b=np.arange(6)  "
   ]
  },
  {
   "cell_type": "code",
   "execution_count": 35,
   "metadata": {},
   "outputs": [
    {
     "name": "stdout",
     "output_type": "stream",
     "text": [
      "[11 22 33 44 55 66]\n",
      "[0 1 2 3 4 5]\n"
     ]
    }
   ],
   "source": [
    "print(a)\n",
    "print(b)"
   ]
  },
  {
   "cell_type": "code",
   "execution_count": 36,
   "metadata": {},
   "outputs": [
    {
     "name": "stdout",
     "output_type": "stream",
     "text": [
      "[11 23 35 47 59 71]\n"
     ]
    }
   ],
   "source": [
    "c = a + b\n",
    "print(c)"
   ]
  },
  {
   "cell_type": "code",
   "execution_count": 37,
   "metadata": {},
   "outputs": [
    {
     "name": "stdout",
     "output_type": "stream",
     "text": [
      "[11 21 31 41 51 61]\n"
     ]
    }
   ],
   "source": [
    "d = a - b\n",
    "print(d)"
   ]
  },
  {
   "cell_type": "code",
   "execution_count": 38,
   "metadata": {},
   "outputs": [
    {
     "name": "stdout",
     "output_type": "stream",
     "text": [
      "[  0  22  66 132 220 330]\n"
     ]
    }
   ],
   "source": [
    "e = a * b\n",
    "print(e)"
   ]
  },
  {
   "cell_type": "code",
   "execution_count": 39,
   "metadata": {},
   "outputs": [
    {
     "name": "stdout",
     "output_type": "stream",
     "text": [
      "[ 121  484 1089 1936 3025 4356]\n"
     ]
    }
   ],
   "source": [
    "f = a**2\n",
    "print(f)"
   ]
  },
  {
   "cell_type": "code",
   "execution_count": 40,
   "metadata": {},
   "outputs": [
    {
     "name": "stdout",
     "output_type": "stream",
     "text": [
      "[-1.99998041 -0.01770262  1.99982372  0.03540385 -1.99951035 -0.05310231]\n",
      "[ 0.0088514  -1.99992165 -0.02655349  1.99968662  0.04425351 -1.99929491]\n"
     ]
    }
   ],
   "source": [
    "g = 2*np.sin(a)\n",
    "print(g)\n",
    "h = 2*np.cos(a)\n",
    "print(h)"
   ]
  },
  {
   "cell_type": "code",
   "execution_count": 41,
   "metadata": {},
   "outputs": [
    {
     "name": "stdout",
     "output_type": "stream",
     "text": [
      "[ True  True  True  True False False]\n",
      "[False False False  True False False]\n"
     ]
    }
   ],
   "source": [
    "print(a < 50)    #返回True / False\n",
    "print(a == 44)"
   ]
  },
  {
   "cell_type": "code",
   "execution_count": 42,
   "metadata": {},
   "outputs": [
    {
     "name": "stdout",
     "output_type": "stream",
     "text": [
      "[[11 22 33]\n",
      " [44 55 66]]\n",
      "[[0 1]\n",
      " [2 3]\n",
      " [4 5]]\n"
     ]
    }
   ],
   "source": [
    "a = np.array([[11,22,33],[44,55,66]])\n",
    "b = np.arange(6).reshape((3,2))\n",
    "print(a)\n",
    "print(b)"
   ]
  },
  {
   "cell_type": "code",
   "execution_count": 43,
   "metadata": {},
   "outputs": [
    {
     "name": "stdout",
     "output_type": "stream",
     "text": [
      "[[176 242]\n",
      " [374 539]]\n",
      "[[176 242]\n",
      " [374 539]]\n"
     ]
    }
   ],
   "source": [
    "c_dot = np.dot(a,b)    #内积的两种写法\n",
    "print(c_dot)\n",
    "d_dot = a.dot(b)\n",
    "print(d_dot)"
   ]
  },
  {
   "cell_type": "code",
   "execution_count": 45,
   "metadata": {},
   "outputs": [
    {
     "name": "stdout",
     "output_type": "stream",
     "text": [
      "[[0.27488251 0.38112198]\n",
      " [0.69079936 0.07863913]\n",
      " [0.61867795 0.28980118]\n",
      " [0.03101032 0.66391407]\n",
      " [0.84243695 0.63899964]]\n",
      "[[0.60735054 0.66247893]\n",
      " [0.67776596 0.45331973]\n",
      " [0.90784201 0.50873135]\n",
      " [0.95642159 0.7387789 ]\n",
      " [0.56548098 0.77954772]]\n",
      "[[ 1.49401173 -1.11708126]\n",
      " [ 0.34720045  0.6367115 ]\n",
      " [-0.31967077 -2.20778759]\n",
      " [-0.14534832  1.43130997]\n",
      " [-0.55667492 -0.09422262]]\n",
      "[ 0.28125715  0.66325468  0.86256529 -0.5651094   0.72359101]\n"
     ]
    }
   ],
   "source": [
    "import numpy as np\n",
    "a=np.random.random((5,2))  #生成5行2列的浮点数，浮点数都是从0-1中随机。\n",
    "print(a)\n",
    "b=np.random.rand(5,2)    #生成一个[0,1)之间的随机浮点数或N维浮点数组\n",
    "print(b)\n",
    "c=np.random.randn(5,2)  #生成一个浮点数或N维浮点数组，取数范围：正态分布的随机样本数。\n",
    "print(c)\n",
    "d= np.random.standard_normal(5)   #生产一个浮点数或N维浮点数组，取数范围：标准正态分布随机样本\n",
    "print(d)"
   ]
  },
  {
   "cell_type": "code",
   "execution_count": 46,
   "metadata": {},
   "outputs": [
    {
     "name": "stdout",
     "output_type": "stream",
     "text": [
      "4.510283102750235\n",
      "0.031010324421880564\n",
      "0.8424369537405353\n"
     ]
    }
   ],
   "source": [
    "sum = np.sum(a)\n",
    "print(sum)\n",
    "min = np.min(a)\n",
    "print(min)\n",
    "max = np.max(a)\n",
    "print(max)"
   ]
  },
  {
   "cell_type": "code",
   "execution_count": null,
   "metadata": {},
   "outputs": [],
   "source": [
    "a = np.sum(a, axis = 1)"
   ]
  },
  {
   "cell_type": "code",
   "execution_count": 47,
   "metadata": {},
   "outputs": [
    {
     "name": "stdout",
     "output_type": "stream",
     "text": [
      "[0.65600449 0.76943849 0.90847913 0.6949244  1.48143659]\n",
      "[0.03101032 0.07863913]\n",
      "[0.38112198 0.69079936 0.61867795 0.66391407 0.84243695]\n"
     ]
    }
   ],
   "source": [
    "sum_hang = np.sum(a, axis = 1)   #axis:轴 1行0列\n",
    "print(sum_hang)\n",
    "min_lie = np.min(a, axis = 0)    #a中每列的最小值\n",
    "print(min_lie)\n",
    "max_hang = np.max(a, axis = 1)   #a中每行的最大值\n",
    "print(max_hang)"
   ]
  },
  {
   "cell_type": "markdown",
   "metadata": {},
   "source": [
    "# 最大值、最小值的索引"
   ]
  },
  {
   "cell_type": "code",
   "execution_count": 80,
   "metadata": {},
   "outputs": [
    {
     "name": "stdout",
     "output_type": "stream",
     "text": [
      "[[11 22 33 44 55]\n",
      " [55 44 33 22 11]\n",
      " [ 0 22 44 66 88]\n",
      " [11 33 55 77 99]]\n",
      "10\n",
      "19\n"
     ]
    }
   ],
   "source": [
    "A = np.array([[11,22,33,44,55],[55,44,33,22,11],[0,22,44,66,88],[11,33,55,77,99]])\n",
    "print(A)\n",
    "print(np.argmin(A))\n",
    "print(np.argmax(A))"
   ]
  },
  {
   "cell_type": "code",
   "execution_count": 86,
   "metadata": {},
   "outputs": [
    {
     "name": "stdout",
     "output_type": "stream",
     "text": [
      "[[11 22 33 44 55]\n",
      " [55 44 33 22 11]\n",
      " [ 0 22 44 66 88]\n",
      " [11 33 55 77 99]]\n",
      "41.25\n",
      "41.25\n",
      "41.25\n",
      "38.5\n"
     ]
    }
   ],
   "source": [
    "A = np.array([[11,22,33,44,55],[55,44,33,22,11],[0,22,44,66,88],[11,33,55,77,99]])\n",
    "print(A)\n",
    "print(np.mean(A))\n",
    "print(np.average(A))\n",
    "print(A.mean())     #这种方法也可以，同理内积\n",
    "print(np.median(A))"
   ]
  },
  {
   "cell_type": "code",
   "execution_count": 88,
   "metadata": {},
   "outputs": [
    {
     "name": "stdout",
     "output_type": "stream",
     "text": [
      "[[11 22 33 44 55]\n",
      " [55 44 33 22 11]\n",
      " [ 0 22 44 66 88]\n",
      " [11 33 55 77 99]]\n",
      "[ 11  33  66 110 165 220 264 297 319 330 330 352 396 462 550 561 594 649\n",
      " 726 825]\n",
      "[[ 11  11  11  11]\n",
      " [-11 -11 -11 -11]\n",
      " [ 22  22  22  22]\n",
      " [ 22  22  22  22]]\n"
     ]
    }
   ],
   "source": [
    "A = np.array([[11,22,33,44,55],[55,44,33,22,11],[0,22,44,66,88],[11,33,55,77,99]])\n",
    "print(A)\n",
    "print(np.cumsum(A))\n",
    "print(np.diff(A))"
   ]
  },
  {
   "cell_type": "code",
   "execution_count": 89,
   "metadata": {},
   "outputs": [
    {
     "name": "stdout",
     "output_type": "stream",
     "text": [
      "[[11 22 33 44 55]\n",
      " [55 44 33 22 11]\n",
      " [ 0 22 44 66 88]\n",
      " [11 33 55 77 99]]\n",
      "[[11 22 33 44 55]\n",
      " [11 22 33 44 55]\n",
      " [ 0 22 44 66 88]\n",
      " [11 33 55 77 99]]\n"
     ]
    }
   ],
   "source": [
    "A = np.array([[11,22,33,44,55],[55,44,33,22,11],[0,22,44,66,88],[11,33,55,77,99]])\n",
    "print(A)\n",
    "print(np.sort(A))"
   ]
  },
  {
   "cell_type": "code",
   "execution_count": 91,
   "metadata": {},
   "outputs": [
    {
     "name": "stdout",
     "output_type": "stream",
     "text": [
      "[[11 22 33 44 55]\n",
      " [55 44 33 22 11]\n",
      " [ 0 22 44 66 88]\n",
      " [11 33 55 77 99]]\n",
      "[[11 55  0 11]\n",
      " [22 44 22 33]\n",
      " [33 33 44 55]\n",
      " [44 22 66 77]\n",
      " [55 11 88 99]]\n",
      "[[11 55  0 11]\n",
      " [22 44 22 33]\n",
      " [33 33 44 55]\n",
      " [44 22 66 77]\n",
      " [55 11 88 99]]\n"
     ]
    }
   ],
   "source": [
    "A = np.array([[11,22,33,44,55],[55,44,33,22,11],[0,22,44,66,88],[11,33,55,77,99]])\n",
    "print(A)\n",
    "print(np.transpose(A))\n",
    "print(A.T)"
   ]
  },
  {
   "cell_type": "code",
   "execution_count": 93,
   "metadata": {},
   "outputs": [
    {
     "name": "stdout",
     "output_type": "stream",
     "text": [
      "[[11 22 33 44 55]\n",
      " [55 44 33 22 11]\n",
      " [ 0 22 44 66 88]\n",
      " [11 33 55 77 99]]\n",
      "[[44 44 44 44 55]\n",
      " [55 44 44 44 44]\n",
      " [44 44 44 66 77]\n",
      " [44 44 55 77 77]]\n"
     ]
    }
   ],
   "source": [
    "A = np.array([[11,22,33,44,55],[55,44,33,22,11],[0,22,44,66,88],[11,33,55,77,99]])\n",
    "print(A)\n",
    "print(np.clip(A,44,77))   #小于44的都为44，大于77的都为77，其它照写"
   ]
  },
  {
   "cell_type": "markdown",
   "metadata": {},
   "source": [
    "# 一维索引&二维索引"
   ]
  },
  {
   "cell_type": "code",
   "execution_count": 1,
   "metadata": {},
   "outputs": [
    {
     "name": "stdout",
     "output_type": "stream",
     "text": [
      "[ 0  1  2  3  4  5  6  7  8  9 10 11 12 13 14 15]\n",
      "3\n",
      "[[ 0  1  2  3]\n",
      " [ 4  5  6  7]\n",
      " [ 8  9 10 11]\n",
      " [12 13 14 15]]\n",
      "[ 8  9 10 11]\n",
      "10\n"
     ]
    }
   ],
   "source": [
    "import numpy as np\n",
    "A = np.arange(0,16)\n",
    "print(A)   #一维索引\n",
    "print(A[3])\n",
    "A_reshape = np.arange(0,16).reshape((4,4))\n",
    "print(A_reshape)\n",
    "print(A_reshape[2])   #二维索引整行\n",
    "print(A_reshape[2][2]) #二维索引具体"
   ]
  },
  {
   "cell_type": "code",
   "execution_count": 2,
   "metadata": {},
   "outputs": [
    {
     "name": "stdout",
     "output_type": "stream",
     "text": [
      "[ 0  1  2  3  4  5  6  7  8  9 10 11 12 13 14 15]\n",
      "[[ 0  1  2  3]\n",
      " [ 4  5  6  7]\n",
      " [ 8  9 10 11]\n",
      " [12 13 14 15]]\n",
      "6\n",
      "6\n",
      "[5 6 7]\n",
      "[ 8  9 10 11]\n"
     ]
    }
   ],
   "source": [
    "import numpy as np\n",
    "A = np.arange(0,16)\n",
    "print(A)\n",
    "A_reshape = np.arange(0,16).reshape((4,4))\n",
    "print(A_reshape)\n",
    "print(A_reshape[1][2])   #定位矩阵的具体值\n",
    "print(A_reshape[1,2])   #此方法与上面方法一样\n",
    "print(A_reshape[1,1:4])  #取某一行的某几个\n",
    "print(A_reshape[2,:])  #取一整行"
   ]
  },
  {
   "cell_type": "code",
   "execution_count": 3,
   "metadata": {},
   "outputs": [
    {
     "name": "stdout",
     "output_type": "stream",
     "text": [
      "[ 0  1  2  3  4  5  6  7  8  9 10 11 12 13 14 15]\n",
      "[[ 0  1  2  3]\n",
      " [ 4  5  6  7]\n",
      " [ 8  9 10 11]\n",
      " [12 13 14 15]]\n",
      "\n",
      "\n",
      "[[ 0  4  8 12]\n",
      " [ 1  5  9 13]\n",
      " [ 2  6 10 14]\n",
      " [ 3  7 11 15]]\n",
      "\n",
      "\n",
      "[0 1 2 3]\n",
      "[4 5 6 7]\n",
      "[ 8  9 10 11]\n",
      "[12 13 14 15]\n",
      "\n",
      "\n",
      "[ 0  4  8 12]\n",
      "[ 1  5  9 13]\n",
      "[ 2  6 10 14]\n",
      "[ 3  7 11 15]\n"
     ]
    }
   ],
   "source": [
    "import numpy as np\n",
    "A = np.arange(0,16)\n",
    "print(A)\n",
    "A_reshape = np.arange(0,16).reshape((4,4))\n",
    "print(A_reshape)\n",
    "print('\\n')\n",
    "print(A_reshape.T)\n",
    "print('\\n')\n",
    "for row in A_reshape:\n",
    "    print(row)\n",
    "print('\\n')\n",
    "for column in A_reshape.T:   #[记]求列要对矩阵转置一下\n",
    "    print(column)"
   ]
  },
  {
   "cell_type": "code",
   "execution_count": 8,
   "metadata": {},
   "outputs": [
    {
     "name": "stdout",
     "output_type": "stream",
     "text": [
      "[ 0  1  2  3  4  5  6  7  8  9 10 11 12 13 14 15]\n",
      "[[ 0  1  2  3]\n",
      " [ 4  5  6  7]\n",
      " [ 8  9 10 11]\n",
      " [12 13 14 15]]\n",
      "[ 0  1  2  3  4  5  6  7  8  9 10 11 12 13 14 15]\n",
      " <numpy.flatiter object at 0x7ff72e00d800>\n",
      "0\n",
      "1\n",
      "2\n",
      "3\n",
      "4\n",
      "5\n",
      "6\n",
      "7\n",
      "8\n",
      "9\n",
      "10\n",
      "11\n",
      "12\n",
      "13\n",
      "14\n",
      "15\n"
     ]
    }
   ],
   "source": [
    "import numpy as np\n",
    "A = np.arange(0,16)\n",
    "print(A)\n",
    "A_reshape = np.arange(0,16).reshape((4,4))\n",
    "print(A_reshape)\n",
    "print(A_reshape.flatten())    #flatten有展平的意思 \n",
    "print(\"\",A_reshape.flat)\n",
    "for item in A_reshape.flat:   #A_reshape.flat是一个迭代器\n",
    "    print(item)"
   ]
  },
  {
   "cell_type": "code",
   "execution_count": 9,
   "metadata": {},
   "outputs": [
    {
     "name": "stdout",
     "output_type": "stream",
     "text": [
      "[1 2 3 4 5 6]\n",
      "[6 5 4 3 2 1]\n",
      "[[1 2 3 4 5 6]\n",
      " [6 5 4 3 2 1]]\n",
      "[[1 2 3 4 5 6]\n",
      " [6 5 4 3 2 1]]\n",
      "(6,) (6,) (2, 6)\n"
     ]
    }
   ],
   "source": [
    "import numpy as np\n",
    "A = np.array([1,2,3,4,5,6])\n",
    "B = np.array([6,5,4,3,2,1])\n",
    "\n",
    "print(A)\n",
    "print(B)\n",
    "print(np.vstack((A,B)))    #沿着竖直方向将矩阵堆叠起来\n",
    "C = np.vstack((A,B))\n",
    "print(C)\n",
    "print(A.shape , B.shape, C.shape)"
   ]
  },
  {
   "cell_type": "code",
   "execution_count": 10,
   "metadata": {},
   "outputs": [
    {
     "name": "stdout",
     "output_type": "stream",
     "text": [
      "[1 2 3 4 5 6 6 5 4 3 2 1]\n",
      "(6,) (6,) (12,)\n"
     ]
    }
   ],
   "source": [
    "import numpy as np\n",
    "A = np.array([1,2,3,4,5,6]) \n",
    "B = np.array([6,5,4,3,2,1])\n",
    "D = np.hstack((A,B))\n",
    "print(D)\n",
    "print(A.shape, B.shape, D.shape)"
   ]
  },
  {
   "cell_type": "code",
   "execution_count": 62,
   "metadata": {},
   "outputs": [
    {
     "name": "stdout",
     "output_type": "stream",
     "text": [
      "[1 2 3 4 5 6]\n",
      "(6,)\n",
      "[[1 2 3 4 5 6]]\n",
      "(1, 6)\n",
      "[[1]\n",
      " [2]\n",
      " [3]\n",
      " [4]\n",
      " [5]\n",
      " [6]]\n",
      "(6, 1)\n"
     ]
    }
   ],
   "source": [
    "import numpy as np\n",
    "A = np.array([1,2,3,4,5,6]) \n",
    "\n",
    "print(A)\n",
    "print(A.shape)\n",
    "print(A[np.newaxis,:])  #在行方向加了一个维度\n",
    "print(A[np.newaxis,:].shape)\n",
    "\n",
    "print(A[:,np.newaxis])  #在列方向加了一个维度\n",
    "print(A[:,np.newaxis].shape)"
   ]
  },
  {
   "cell_type": "code",
   "execution_count": 18,
   "metadata": {},
   "outputs": [
    {
     "name": "stdout",
     "output_type": "stream",
     "text": [
      "[[1]\n",
      " [2]\n",
      " [3]\n",
      " [4]\n",
      " [5]\n",
      " [6]]\n",
      "\n",
      "\n",
      "[[6]\n",
      " [5]\n",
      " [4]\n",
      " [3]\n",
      " [2]\n",
      " [1]]\n",
      "\n",
      "\n",
      "[[1]\n",
      " [2]\n",
      " [3]\n",
      " [4]\n",
      " [5]\n",
      " [6]\n",
      " [6]\n",
      " [5]\n",
      " [4]\n",
      " [3]\n",
      " [2]\n",
      " [1]]\n",
      "\n",
      "\n",
      "[[1 6]\n",
      " [2 5]\n",
      " [3 4]\n",
      " [4 3]\n",
      " [5 2]\n",
      " [6 1]]\n",
      "(6, 1) (6, 1) (12, 1) (6, 2)\n"
     ]
    }
   ],
   "source": [
    "import numpy as np\n",
    "A = np.array([1,2,3,4,5,6])[:,np.newaxis]  #在列方向加了一个维度\n",
    "B = np.array([6,5,4,3,2,1])[:,np.newaxis]\n",
    "print(A)\n",
    "print('\\n')\n",
    "print(B)\n",
    "print('\\n')\n",
    "C = np.vstack((A,B))    #在垂直方向合并A、B\n",
    "D = np.hstack((A,B))    ##在水平方向合并A、B\n",
    "print(C)\n",
    "print('\\n')\n",
    "print(D)\n",
    "print(A.shape,B.shape,C.shape,D.shape)"
   ]
  },
  {
   "cell_type": "code",
   "execution_count": 19,
   "metadata": {},
   "outputs": [
    {
     "name": "stdout",
     "output_type": "stream",
     "text": [
      "[[1 1 6 6 1 1]\n",
      " [2 2 5 5 2 2]\n",
      " [3 3 4 4 3 3]\n",
      " [4 4 3 3 4 4]\n",
      " [5 5 2 2 5 5]\n",
      " [6 6 1 1 6 6]]\n",
      "\n",
      "\n",
      "[[1]\n",
      " [2]\n",
      " [3]\n",
      " [4]\n",
      " [5]\n",
      " [6]\n",
      " [1]\n",
      " [2]\n",
      " [3]\n",
      " [4]\n",
      " [5]\n",
      " [6]\n",
      " [6]\n",
      " [5]\n",
      " [4]\n",
      " [3]\n",
      " [2]\n",
      " [1]\n",
      " [6]\n",
      " [5]\n",
      " [4]\n",
      " [3]\n",
      " [2]\n",
      " [1]\n",
      " [1]\n",
      " [2]\n",
      " [3]\n",
      " [4]\n",
      " [5]\n",
      " [6]\n",
      " [1]\n",
      " [2]\n",
      " [3]\n",
      " [4]\n",
      " [5]\n",
      " [6]]\n"
     ]
    }
   ],
   "source": [
    "import numpy as np\n",
    "A = np.array([1,2,3,4,5,6])[:,np.newaxis]\n",
    "B = np.array([6,5,4,3,2,1])[:,np.newaxis]\n",
    "\n",
    "C = np.concatenate((A,A,B,B,A,A),axis = 1)    \n",
    "print(C)\n",
    "print('\\n')\n",
    "D = np.concatenate((A,A,B,B,A,A),axis = 0)\n",
    "print(D)"
   ]
  },
  {
   "cell_type": "markdown",
   "metadata": {},
   "source": [
    "# Numpy分割"
   ]
  },
  {
   "cell_type": "code",
   "execution_count": 2,
   "metadata": {},
   "outputs": [
    {
     "name": "stdout",
     "output_type": "stream",
     "text": [
      "[[ 1  2  3  4  5  6]\n",
      " [ 7  8  9 10 11 12]\n",
      " [13 14 15 16 17 18]\n",
      " [19 20 21 22 23 24]]\n"
     ]
    }
   ],
   "source": [
    "import numpy as np\n",
    "A = np.arange(1,25).reshape((4,6))\n",
    "\n",
    "print(A)"
   ]
  },
  {
   "cell_type": "code",
   "execution_count": 13,
   "metadata": {},
   "outputs": [
    {
     "name": "stdout",
     "output_type": "stream",
     "text": [
      "[array([[ 1,  2],\n",
      "       [ 7,  8],\n",
      "       [13, 14],\n",
      "       [19, 20]]), array([[ 3,  4],\n",
      "       [ 9, 10],\n",
      "       [15, 16],\n",
      "       [21, 22]]), array([[ 5,  6],\n",
      "       [11, 12],\n",
      "       [17, 18],\n",
      "       [23, 24]])]\n"
     ]
    }
   ],
   "source": [
    "print(np.split(A, 3 ,axis = 1))  #纵向等分3列(第二个参数一定要能被总列数整除)"
   ]
  },
  {
   "cell_type": "code",
   "execution_count": 15,
   "metadata": {},
   "outputs": [
    {
     "name": "stdout",
     "output_type": "stream",
     "text": [
      "[array([[ 1,  2,  3,  4,  5,  6],\n",
      "       [ 7,  8,  9, 10, 11, 12]]), array([[13, 14, 15, 16, 17, 18],\n",
      "       [19, 20, 21, 22, 23, 24]])]\n"
     ]
    }
   ],
   "source": [
    "print(np.split(A, 2, axis = 0))   #横向等分2行(第二个参数一定要能被总行数整除)"
   ]
  },
  {
   "cell_type": "code",
   "execution_count": 18,
   "metadata": {},
   "outputs": [
    {
     "name": "stdout",
     "output_type": "stream",
     "text": [
      "[array([[ 1,  2],\n",
      "       [ 7,  8],\n",
      "       [13, 14],\n",
      "       [19, 20]]), array([[ 3,  4],\n",
      "       [ 9, 10],\n",
      "       [15, 16],\n",
      "       [21, 22]]), array([[ 5],\n",
      "       [11],\n",
      "       [17],\n",
      "       [23]]), array([[ 6],\n",
      "       [12],\n",
      "       [18],\n",
      "       [24]])]\n"
     ]
    }
   ],
   "source": [
    "print(np.array_split(A,4,axis = 1))  #6列分成了2、2、1、1"
   ]
  },
  {
   "cell_type": "code",
   "execution_count": 20,
   "metadata": {},
   "outputs": [
    {
     "name": "stdout",
     "output_type": "stream",
     "text": [
      "[array([[ 1,  2,  3,  4,  5,  6],\n",
      "       [ 7,  8,  9, 10, 11, 12]]), array([[13, 14, 15, 16, 17, 18]]), array([[19, 20, 21, 22, 23, 24]])]\n"
     ]
    }
   ],
   "source": [
    "print(np.array_split(A,3,axis = 0))  #4行分成了2、1、1"
   ]
  },
  {
   "cell_type": "code",
   "execution_count": 22,
   "metadata": {},
   "outputs": [
    {
     "name": "stdout",
     "output_type": "stream",
     "text": [
      "[array([[ 1,  2,  3,  4,  5,  6],\n",
      "       [ 7,  8,  9, 10, 11, 12]]), array([[13, 14, 15, 16, 17, 18],\n",
      "       [19, 20, 21, 22, 23, 24]])]\n"
     ]
    }
   ],
   "source": [
    "print(np.vsplit(A,2))  #等价于print(np.split(A, 2, axis = 0))"
   ]
  },
  {
   "cell_type": "code",
   "execution_count": 23,
   "metadata": {},
   "outputs": [
    {
     "name": "stdout",
     "output_type": "stream",
     "text": [
      "[array([[ 1,  2],\n",
      "       [ 7,  8],\n",
      "       [13, 14],\n",
      "       [19, 20]]), array([[ 3,  4],\n",
      "       [ 9, 10],\n",
      "       [15, 16],\n",
      "       [21, 22]]), array([[ 5,  6],\n",
      "       [11, 12],\n",
      "       [17, 18],\n",
      "       [23, 24]])]\n"
     ]
    }
   ],
   "source": [
    "print(np.hsplit(A,3))  #等价于print(np.split(A, 3 ,axis = 1))"
   ]
  },
  {
   "cell_type": "markdown",
   "metadata": {},
   "source": [
    "# 浅拷贝与深拷贝"
   ]
  },
  {
   "cell_type": "code",
   "execution_count": 7,
   "metadata": {},
   "outputs": [
    {
     "name": "stdout",
     "output_type": "stream",
     "text": [
      "[0 1 2 3 4 5]\n",
      "\n",
      "\n",
      "[0 1 2 3 4 5]\n",
      "\n",
      "\n",
      "[0 1 2 3 4 5]\n",
      "\n",
      "\n",
      "[0 1 2 3 4 5]\n",
      "\n",
      "\n",
      "[0 1 2 3 4 5]\n",
      "\n",
      "\n",
      "True\n",
      "True\n",
      "True\n",
      "True\n"
     ]
    }
   ],
   "source": [
    "import numpy as np\n",
    "\n",
    "a = np.arange(6)\n",
    "print(a)\n",
    "print('\\n')\n",
    "b = a\n",
    "c = a\n",
    "d = b\n",
    "e = c\n",
    "print(b)\n",
    "print('\\n')\n",
    "print(c)\n",
    "print('\\n')\n",
    "print(d)\n",
    "print('\\n')\n",
    "print(e)\n",
    "print('\\n')\n",
    "\n",
    "print(b is a)\n",
    "print(c is b)\n",
    "print(d is c)\n",
    "print(e is d)"
   ]
  },
  {
   "cell_type": "code",
   "execution_count": 8,
   "metadata": {},
   "outputs": [
    {
     "name": "stdout",
     "output_type": "stream",
     "text": [
      "[100   1   2   3   4   5]\n",
      "\n",
      "\n",
      "[100   1   2   3   4   5]\n",
      "\n",
      "\n",
      "[100   1   2   3   4   5]\n",
      "\n",
      "\n",
      "[100   1   2   3   4   5]\n",
      "\n",
      "\n",
      "[100   1   2   3   4   5]\n",
      "\n",
      "\n",
      "True\n",
      "True\n",
      "True\n",
      "True\n"
     ]
    }
   ],
   "source": [
    "import numpy as np\n",
    "\n",
    "a = np.arange(6)\n",
    "a[0] = 100\n",
    "print(a)\n",
    "print('\\n')\n",
    "b = a\n",
    "c = a\n",
    "d = b\n",
    "e = c\n",
    "print(b)\n",
    "print('\\n')\n",
    "print(c)\n",
    "print('\\n')\n",
    "print(d)\n",
    "print('\\n')\n",
    "print(e)\n",
    "print('\\n')\n",
    "\n",
    "print(b is a)\n",
    "print(c is b)\n",
    "print(d is c)\n",
    "print(e is d)"
   ]
  },
  {
   "cell_type": "code",
   "execution_count": 11,
   "metadata": {},
   "outputs": [
    {
     "name": "stdout",
     "output_type": "stream",
     "text": [
      "[0 1 2 3 4 5]\n",
      "\n",
      "\n",
      "[   0    1 1000    3    4    5]\n",
      "\n",
      "\n",
      "[0 1 2 3 4 5]\n"
     ]
    }
   ],
   "source": [
    "import numpy as np\n",
    "\n",
    "a = np.arange(6)\n",
    "print(a)\n",
    "print('\\n')\n",
    "b = a.copy()\n",
    "a[2] = 1000\n",
    "print(a)\n",
    "print('\\n')      #b对a进行了深拷贝，当a的值改变时，b的值没有改变\n",
    "print(b)"
   ]
  },
  {
   "cell_type": "code",
   "execution_count": null,
   "metadata": {},
   "outputs": [],
   "source": []
  }
 ],
 "metadata": {
  "kernelspec": {
   "display_name": "Python 3",
   "language": "python",
   "name": "python3"
  },
  "language_info": {
   "codemirror_mode": {
    "name": "ipython",
    "version": 3
   },
   "file_extension": ".py",
   "mimetype": "text/x-python",
   "name": "python",
   "nbconvert_exporter": "python",
   "pygments_lexer": "ipython3",
   "version": "3.7.4"
  }
 },
 "nbformat": 4,
 "nbformat_minor": 2
}
